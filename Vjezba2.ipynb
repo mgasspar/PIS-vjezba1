{
 "cells": [
  {
   "cell_type": "markdown",
   "metadata": {},
   "source": [
    "## **PIS - Vježba 2.1: Analiza ekonomske izvedivosti**\n",
    "\n",
    "Zadatak se temelji na analizi ekonomske izvedivosti nekog IT projekta.\n",
    "<br/>**<u>Implementirajte</u>** funkcije za izračun ključnih ekonomskih pokazatelja koje nedostaju.\n",
    "\n",
    "⚠️ = ćeliju je **potrebno dopuniti** <br/>\n",
    "✅ = ćelija je već implementirana, treba samo pokrenuti <br/>\n",
    "❓ = nadopuniti ćeliju pitanja sa odgovorima"
   ]
  },
  {
   "cell_type": "markdown",
   "metadata": {},
   "source": [
    "Cilj istraživanja ekonomske izvedivosti je utvrditi da li je ekonomski isplativo realizirati predloženi projekt. Prvi korak u analizi ekonomske izvedivosti je **identifikacija svih troškova i prihoda** i određivanje njihovih vrijednosti (ili procjena).\n",
    "\n",
    "Troškovi i prihodi se obično dijele u četiri grupe:\n",
    "- **Troškovi razvoja** (npr. plaće programera)\n",
    "- **Troškovi rada** (npr. softverske licence, održavanje hardvera)\n",
    "- **Materijalni prihodi** (npr. porast prodaje, smanjenje troškova koje nastaje kao rezultat uvođenja sustava)\n",
    "- **Nematerijalni prihodi** (npr. porast zadovoljstva kupaca)\n",
    "\n"
   ]
  },
  {
   "cell_type": "markdown",
   "metadata": {},
   "source": [
    "#### Bitni proračuni u analizi ekonomske izvedivosti\n",
    "* **Kumulativna dobit**\n",
    "  * proračun cjelokupnog toka novca tijekom trajanja projekta\n",
    "  * `Kumulativna dobit ove godine = Kumulativna dobit prošle godine + Dobit ove godine`\n",
    "\n",
    "* **Povrat investicije (ROI – Return on Investment ili ROR – Rate of Return)**\n",
    "  * ROI mjeri prosječno vraćanje postotka novca uloženog u projekt (tj. dobit projekta), što je veći ROI znači da dobitak brže nadmaši trošak\n",
    "  * `ROI = (Ukupni prihodi - Ukupni troškovi) / (Ukupni troškovi)`\n",
    "\n",
    "* **Poravnanje vrijednosti ili točka pokrića (BEP, Break-Even point)**\n",
    "  * trenutak u vremenu kada se troškovi projekta izjednače s prihodom projekta\n",
    "  * kaže nam koliko vremena je potrebno da zarada projekta bude jednaka uloženom novcu\n",
    "  * obično, projekt je riskantniji što mu duže treba da izjednači troškove i zaradu\n",
    "  *  `BEP = N + (Zarada - Kumulativni tok novca) / Zarada, kad je kumulativni tok ≥ 0`\n",
    "  * gdje je N – broj godina u minusu"
   ]
  },
  {
   "cell_type": "code",
   "execution_count": null,
   "metadata": {},
   "outputs": [],
   "source": [
    "#✅\n",
    "import pandas as pd\n",
    "import matplotlib.pyplot as plt"
   ]
  },
  {
   "cell_type": "markdown",
   "metadata": {},
   "source": [
    "#### Podaci o projektu ✅\n",
    "Podaci o prihodima i troškovima IT projekta za period od 2024. do 2027. godine."
   ]
  },
  {
   "cell_type": "code",
   "execution_count": null,
   "metadata": {},
   "outputs": [],
   "source": [
    "godine = [2024, 2025, 2026, 2027]\n",
    "\n",
    "prihodi = {\n",
    "    2024: {\"Porast zarade\": 0, \"Smanjenje troškova\": 0},\n",
    "    2025: {\"Porast zarade\": 560000, \"Smanjenje troškova\": 78000},\n",
    "    2026: {\"Porast zarade\": 634000, \"Smanjenje troškova\": 81300},\n",
    "    2027: {\"Porast zarade\": 764000, \"Smanjenje troškova\": 81300}\n",
    "}\n",
    "\n",
    "troskovi_razvoja = {\n",
    "    2024: {\"Hardver\": 142800, \"Softver\": 35000, \"Rad\": 783000},\n",
    "    2025: {\"Hardver\": 0, \"Softver\": 0, \"Rad\": 0},\n",
    "    2026: {\"Hardver\": 0, \"Softver\": 0, \"Rad\": 0},\n",
    "    2027: {\"Hardver\": 0, \"Softver\": 0, \"Rad\": 0}\n",
    "}\n",
    "\n",
    "operativni_troskovi = {\n",
    "    2024: {\"Hardver (servis)\": 0, \"Softverske licence\": 0},\n",
    "    2025: {\"Hardver (servis)\": 40000, \"Softverske licence\": 36000},\n",
    "    2026: {\"Hardver (servis)\": 41000, \"Softverske licence\": 36000},\n",
    "    2027: {\"Hardver (servis)\": 42000, \"Softverske licence\": 36000}\n",
    "}"
   ]
  },
  {
   "cell_type": "markdown",
   "metadata": {},
   "source": [
    "#### Funkcije za izračun ekonomske izvedivosti ⚠️⚠️⚠️\n",
    "\n",
    "Implementirajte sljedeće funkcije za analizu ekonomske izvedivosti projekta:"
   ]
  },
  {
   "cell_type": "code",
   "execution_count": 4,
   "metadata": {},
   "outputs": [],
   "source": [
    "# Izračun ukupnih prihoda (Ukupni prihodi = Porast zarade + Smanjenje troškova)\n",
    "def izracunaj_ukupne_prihode(godina, prihodi):\n",
    "    return prihodi[godina]['Porast zarade'] + prihodi[godina]['Smanjenje troškova']\n",
    "\n",
    "# Izračun ukupnih troškova razvoja (Ukupni troškovi razvoja = Hardver + Softver + Rad)\n",
    "def izracunaj_ukupne_troskove_razvoja(godina, troskovi_razvoja):\n",
    "    return troskovi_razvoja[godina]['Hardver'] + troskovi_razvoja[godina]['Softver'] + troskovi_razvoja[godina]['Rad']\n",
    "\n",
    "# Izračun ukupnih operativnih troškova (Troškovi rada = Hardver (servis) + Softverske licence)\n",
    "def izracunaj_ukupne_operativne_troskove(godina, operativni_troskovi):\n",
    "    return operativni_troskovi[godina]['Hardver (servis)'] + operativni_troskovi[godina]['Softverske licence']\n",
    "\n",
    "# Izračun ukupnih troškova (Ukupni troškovi = Ukupni troškovi razvoja + Troškovi rada)\n",
    "def izracunaj_ukupne_troskove(godina, troskovi_razvoja, operativni_troskovi):\n",
    "    return izracunaj_ukupne_troskove_razvoja(godina, troskovi_razvoja) + izracunaj_ukupne_operativne_troskove(godina, operativni_troskovi)\n",
    "\n",
    "# Izračun zarade (Zarada = Ukupni prihodi - Ukupni troškovi)\n",
    "def izracunaj_zaradu(godina, prihodi, troskovi_razvoja, operativni_troskovi):\n",
    "    return izracunaj_ukupne_prihode(godina, prihodi) - izracunaj_ukupne_troskove(godina, troskovi_razvoja, operativni_troskovi)\n",
    "\n",
    "\n",
    "# Izračun kumulativne dobiti do određene godine\n",
    "def izracunaj_kumulativnu_dobit(idx, godina, prihodi, troskovi_razvoja, operativni_troskovi):\n",
    "    kumulativna_dobit = 0\n",
    "    for x in range (idx + 1):\n",
    "        kumulativna_dobit += izracunaj_zaradu(godine[x], prihodi, troskovi_razvoja, operativni_troskovi)\n",
    "    \n",
    "    return kumulativna_dobit\n",
    "\n",
    "\n",
    "# Izračun ROI-a (ROI = (Ukupni prihodi - Ukupni troškovi) / Ukupni troškovi * 100%)\n",
    "def izracunaj_roi(ukupni_prihod, ukupni_trosak):\n",
    "    return (ukupni_prihod-ukupni_trosak)/ukupni_trosak * 100\n",
    "\n",
    "# Izračun točke pokrića (Break-Even Point)\n",
    "def izracunaj_tocku_pokrica(rezultati_po_godini):\n",
    "    return (rezultati_po_godini[-2]['godina'] + rezultati_po_godini[-2]['kumulativna_dobit']) / rezultati_po_godini[-1]['zarada']\n"
   ]
  },
  {
   "cell_type": "code",
   "execution_count": null,
   "metadata": {},
   "outputs": [],
   "source": [
    "#✅\n",
    "def formatiraj_valutu(vrijednost):\n",
    "    \"\"\"Formatiraj vrijednost kao valutu\"\"\"\n",
    "    return f\"{vrijednost:,.2f} €\"\n",
    "\n",
    "def formatiraj_datum_tocke_pokrica(tocka_pokrica):\n",
    "    \"\"\"Formatiraj točku pokrića kao datum (godina i mjesec)\"\"\"\n",
    "    if not tocka_pokrica:\n",
    "        return \"Nije pronađeno\"\n",
    "    \n",
    "    godina = int(tocka_pokrica)\n",
    "    decimalni_dio = tocka_pokrica - godina\n",
    "    \n",
    "    mjeseci = round(decimalni_dio * 12)\n",
    "    \n",
    "    return f\"{godina}. godina, {mjeseci}. mjesec\""
   ]
  },
  {
   "cell_type": "markdown",
   "metadata": {},
   "source": [
    "#### Analiza i izračun metrika ✅\n",
    "Sada ćemo provesti cjelokupnu analizu ekonomske izvedivosti projekta."
   ]
  },
  {
   "cell_type": "code",
   "execution_count": null,
   "metadata": {},
   "outputs": [],
   "source": [
    "def analiziraj_projekt():\n",
    "    rezultati_po_godini = []\n",
    "    ukupni_prihod = 0\n",
    "    ukupni_trosak = 0\n",
    "    \n",
    "    for idx, godina in enumerate(godine):\n",
    "        godisnji_prihod = izracunaj_ukupne_prihode(godina, prihodi)\n",
    "        godisnji_trosak_razvoja = izracunaj_ukupne_troskove_razvoja(godina, troskovi_razvoja)\n",
    "        godisnji_operativni_trosak = izracunaj_ukupne_operativne_troskove(godina, operativni_troskovi)\n",
    "        godisnji_ukupni_trosak = godisnji_trosak_razvoja + godisnji_operativni_trosak\n",
    "        godisnja_zarada = godisnji_prihod - godisnji_ukupni_trosak\n",
    "        kumulativna_dobit = izracunaj_kumulativnu_dobit(godina, prihodi, troskovi_razvoja, operativni_troskovi)\n",
    "        \n",
    "        ukupni_prihod += godisnji_prihod\n",
    "        ukupni_trosak += godisnji_ukupni_trosak\n",
    "        \n",
    "        rezultati_po_godini.append({\n",
    "            'godina': godina,\n",
    "            'prihod': godisnji_prihod,\n",
    "            'trosak_razvoja': godisnji_trosak_razvoja,\n",
    "            'operativni_trosak': godisnji_operativni_trosak,\n",
    "            'ukupni_trosak': godisnji_ukupni_trosak,\n",
    "            'zarada': godisnja_zarada,\n",
    "            'kumulativna_dobit': kumulativna_dobit\n",
    "        })\n",
    "    \n",
    "    roi = izracunaj_roi(ukupni_prihod, ukupni_trosak)\n",
    "    tocka_pokrica = izracunaj_tocku_pokrica(rezultati_po_godini)\n",
    "    \n",
    "    return {\n",
    "        'rezultati_po_godini': rezultati_po_godini,\n",
    "        'ukupni_prihod': ukupni_prihod,\n",
    "        'ukupni_trosak': ukupni_trosak,\n",
    "        'roi': roi,\n",
    "        'tocka_pokrica': tocka_pokrica\n",
    "    }\n"
   ]
  },
  {
   "cell_type": "code",
   "execution_count": null,
   "metadata": {},
   "outputs": [],
   "source": [
    "#✅\n",
    "rezultati = analiziraj_projekt()\n",
    "\n",
    "# Pretvaranje podataka u DataFrame za lakši prikaz\n",
    "df_rezultati_po_godini = pd.DataFrame(rezultati['rezultati_po_godini'])\n",
    "df_rezultati_po_godini"
   ]
  },
  {
   "cell_type": "markdown",
   "metadata": {},
   "source": [
    "#### Prikaz izračunatih metrika ✅\n",
    "\n",
    "Prikaz ključnih metrika ekonomske izvedivosti projekta:"
   ]
  },
  {
   "cell_type": "code",
   "execution_count": null,
   "metadata": {},
   "outputs": [],
   "source": [
    "print(f\"Ukupni prihodi: {formatiraj_valutu(rezultati['ukupni_prihod'])}\")\n",
    "print(f\"Ukupni troškovi: {formatiraj_valutu(rezultati['ukupni_trosak'])}\")\n",
    "print(f\"Ukupna dobit: {formatiraj_valutu(rezultati['ukupni_prihod'] - rezultati['ukupni_trosak'])}\")\n",
    "print(f\"Povrat investicije (ROI): {rezultati['roi']:.2f}%\")\n",
    "print(f\"Točka pokrića (BEP): {formatiraj_datum_tocke_pokrica(rezultati['tocka_pokrica'])}\")"
   ]
  },
  {
   "cell_type": "markdown",
   "metadata": {},
   "source": [
    "#### Vizualizacija rezultata analize ✅\n",
    "Grafički prikaz rezultata analize ekonomske izvedivosti projekta:"
   ]
  },
  {
   "cell_type": "code",
   "execution_count": null,
   "metadata": {},
   "outputs": [],
   "source": [
    "fig, (ax1, ax2) = plt.subplots(1, 2, figsize=(18, 6))\n",
    "\n",
    "# 1. graf - Kumulativna dobit po godinama\n",
    "ax1.plot(df_rezultati_po_godini['godina'], df_rezultati_po_godini['kumulativna_dobit'], 'o-', linewidth=2, markersize=8, color='#8884d8')\n",
    "ax1.axhline(y=0, color='r', linestyle='-', alpha=0.3)\n",
    "\n",
    "# Označi točku pokrića (BEP)\n",
    "if rezultati['tocka_pokrica']:\n",
    "    bep = rezultati['tocka_pokrica']\n",
    "    if min(godine) <= bep <= max(godine):\n",
    "        ax1.plot([bep], [0], 'ro', markersize=10)\n",
    "        ax1.axvline(x=bep, color='r', linestyle='--', alpha=0.5)\n",
    "        ax1.text(bep + 0.05, 0, f'BEP: {formatiraj_datum_tocke_pokrica(bep)}', verticalalignment='bottom', horizontalalignment='left', bbox=dict(boxstyle='round', facecolor='white', alpha=0.8))\n",
    "\n",
    "ax1.set_xlabel('Godina')\n",
    "ax1.set_ylabel('Kumulativna dobit (€)')\n",
    "ax1.set_title('Kumulativna dobit kroz vrijeme')\n",
    "ax1.grid(True, linestyle='--', alpha=0.7)\n",
    "\n",
    "# 2. graf: Godišnji prihodi, troškovi i zarada\n",
    "ax2.plot(df_rezultati_po_godini['godina'], df_rezultati_po_godini['prihod'], 'o-', linewidth=2, label='Prihodi', color='#82ca9d')\n",
    "ax2.plot(df_rezultati_po_godini['godina'], df_rezultati_po_godini['ukupni_trosak'],'o-', linewidth=2, label='Troškovi', color='#ff7300')\n",
    "ax2.plot(df_rezultati_po_godini['godina'], df_rezultati_po_godini['zarada'], 'o-', linewidth=2, label='Zarada', color='#8884d8')\n",
    "\n",
    "ax2.set_xlabel('Godina')\n",
    "ax2.set_ylabel('Iznos (€)')\n",
    "ax2.set_title('Godišnji prihodi, troškovi i zarada')\n",
    "ax2.legend()\n",
    "ax2.grid(True, linestyle='--', alpha=0.7)\n",
    "\n",
    "\n",
    "plt.style.use('seaborn-v0_8-whitegrid')\n",
    "plt.rcParams['figure.figsize'] = (14, 6)\n",
    "plt.rcParams['font.size'] = 12\n",
    "plt.tight_layout()\n",
    "plt.show()"
   ]
  },
  {
   "cell_type": "markdown",
   "metadata": {},
   "source": [
    "#### Tablica s detaljnom analizom ekonomske izvedivosti ✅\n",
    "Prikaz svih izračunatih vrijednosti u tablici:"
   ]
  },
  {
   "cell_type": "code",
   "execution_count": null,
   "metadata": {},
   "outputs": [],
   "source": [
    "ukupno = {\n",
    "    'godina': 'Ukupno',\n",
    "    'prihod': df_rezultati_po_godini['prihod'].sum(),\n",
    "    'trosak_razvoja': df_rezultati_po_godini['trosak_razvoja'].sum(),\n",
    "    'operativni_trosak': df_rezultati_po_godini['operativni_trosak'].sum(),\n",
    "    'ukupni_trosak': df_rezultati_po_godini['ukupni_trosak'].sum(),\n",
    "    'zarada': df_rezultati_po_godini['zarada'].sum(),\n",
    "    'kumulativna_dobit': df_rezultati_po_godini['kumulativna_dobit'].iloc[-1]\n",
    "}\n",
    "\n",
    "df_tablica = pd.concat([df_rezultati_po_godini, pd.DataFrame([ukupno])], ignore_index=True)\n",
    "\n",
    "df_stilizirano = df_tablica.style.format({\n",
    "    'prihod': '{:,.2f} €',\n",
    "    'trosak_razvoja': '{:,.2f} €',\n",
    "    'operativni_trosak': '{:,.2f} €',\n",
    "    'ukupni_trosak': '{:,.2f} €',\n",
    "    'zarada': '{:,.2f} €',\n",
    "    'kumulativna_dobit': '{:,.2f} €'\n",
    "})\n",
    "\n",
    "display(df_stilizirano)"
   ]
  },
  {
   "cell_type": "markdown",
   "metadata": {},
   "source": [
    "<br/>"
   ]
  },
  {
   "cell_type": "markdown",
   "metadata": {},
   "source": [
    "### ❓ **Pitanja** - odgovoriti barem 5\n",
    "\n",
    "1. Zašto je točka pokrića (BEP) važan pokazatelj rizika projekta?\n",
    "\n",
    "Točka pokrića je važan pokazatelj rizika projekta jer nam kaže koliko vremena je potrebno da zarada projekta bude jednaka uloženom novcu tj. pokazuje brzinu kojom projekt vraća uložen novac.\n",
    "\n",
    "2. Navedite jedan primjer materijalnog i jedan primjer nematerijalnog prihoda u IT projektima.\n",
    "\n",
    "3. Koji faktor više utječe na točku pokrića: povećanje prihoda ili smanjenje troškova?\n",
    "\n",
    "Smanjenje troškova.\n",
    "\n",
    "4. Objasnite kako interpretirati negativnu vrijednost kumulativne dobiti.\n",
    "\n",
    "Negativna vrijednost kumulativne dobiti označava da ukupni troškovi premašuju vrijednost ukupnih prihoda do tog trenutka.\n",
    "\n",
    "5. Kako biste poboljšali ROI ovog projekta bez mijenjanja prihoda?\n",
    "\n",
    "ROI se može poboljšati smanjenjem troškova.\n",
    "\n",
    "6. Na temelju analiziranih podataka, je li ovaj projekt ekonomski isplativ? Zašto?\n",
    "\n",
    "7. Kako promjena vremenske vrijednosti novca (inflacija) utječe na procjenu isplativosti projekta?\n",
    "\n",
    "8. Usporedite ROI s ostalim metrikama poput NPV (neto sadašnje vrijednosti) - koja je glavna razlika?\n",
    "\n",
    "9. Koje su potencijalne opasnosti oslanjanja isključivo na ROI pri donošenju odluka o projektima?\n",
    "\n",
    "10. U kojoj godini projekt ostvaruje najveću godišnju zaradu i zašto?\n",
    "\n",
    "11. Kako bi produljenje trajanja projekta za još jednu godinu moglo utjecati na ukupnu isplativost?\n",
    "\n",
    "12. Zašto je važno analizirati i kumulativnu dobit, a ne samo godišnju zaradu?\n",
    "\n",
    "13. Koja je poveznica između ekonomske izvedivosti i tehničke izvedivosti projekta?\n"
   ]
  }
 ],
 "metadata": {
  "kernelspec": {
   "name": "python3",
   "display_name": "Python 3.9.0 64-bit",
   "metadata": {
    "interpreter": {
     "hash": "ac59ebe37160ed0dfa835113d9b8498d9f09ceb179beaac4002f036b9467c963"
    }
   }
  },
  "language_info": {
   "codemirror_mode": {
    "name": "ipython",
    "version": 3
   },
   "file_extension": ".py",
   "mimetype": "text/x-python",
   "name": "python",
   "nbconvert_exporter": "python",
   "pygments_lexer": "ipython3",
   "version": "3.9.0-final"
  }
 },
 "nbformat": 4,
 "nbformat_minor": 4
}